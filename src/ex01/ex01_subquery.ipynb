{
 "cells": [
  {
   "cell_type": "code",
   "execution_count": 1,
   "id": "5dda5e79-8e5b-4b8c-9900-0fd6c4d60877",
   "metadata": {},
   "outputs": [
    {
     "name": "stdout",
     "output_type": "stream",
     "text": [
      "Схема таблицы checker:\n",
      "(0, 'index', 'INTEGER', 0, None, 0)\n",
      "(1, 'status', 'TEXT', 0, None, 0)\n",
      "(2, 'success', 'INTEGER', 0, None, 0)\n",
      "(3, 'timestamp', 'TIMESTAMP', 0, None, 0)\n",
      "(4, 'numTrials', 'INTEGER', 0, None, 0)\n",
      "(5, 'labname', 'TEXT', 0, None, 0)\n",
      "(6, 'uid', 'TEXT', 0, None, 0)\n",
      "\n",
      "Первые 10 строк таблицы checker:\n",
      "(0, 'checking', 0, '2020-04-16 21:12:50.740474', 5, None, 'admin_1')\n",
      "(1, 'ready', 0, '2020-04-16 21:12:54.708365', 5, 'code_rvw', 'admin_1')\n",
      "(2, 'checking', 0, '2020-04-16 21:46:47.769088', 7, None, 'admin_1')\n",
      "(3, 'ready', 0, '2020-04-16 21:46:48.121217', 7, 'lab02', 'admin_1')\n",
      "(4, 'checking', 0, '2020-04-16 21:53:01.862637', 6, 'code_rvw', 'admin_1')\n",
      "(5, 'ready', 0, '2020-04-16 21:53:05.373389', 6, 'code_rvw', 'admin_1')\n",
      "(6, 'checking', 0, '2020-04-17 05:18:51.965864', 1, None, None)\n",
      "(7, 'ready', 0, '2020-04-17 05:19:02.744528', 1, 'project1', 'user_4')\n",
      "(8, 'checking', 0, '2020-04-17 05:22:35.249331', 2, 'project1', 'user_4')\n",
      "(9, 'ready', 1, '2020-04-17 05:22:45.549397', 2, 'project1', 'user_4')\n",
      "\n",
      "Результат подсчета:\n",
      "   cnt\n",
      "0  985\n"
     ]
    }
   ],
   "source": [
    "import pandas as pd\n",
    "import sqlite3\n",
    "\n",
    "conn = sqlite3.connect('../data/checking-logs.sqlite')\n",
    "\n",
    "cursor = conn.cursor()\n",
    "cursor.execute(\"PRAGMA table_info(checker);\")\n",
    "schema = cursor.fetchall()\n",
    "print(\"Схема таблицы checker:\")\n",
    "for column in schema:\n",
    "    print(column)\n",
    "\n",
    "cursor.execute(\"SELECT * FROM checker LIMIT 10;\")\n",
    "first_10_rows = cursor.fetchall()\n",
    "print(\"\\nПервые 10 строк таблицы checker:\")\n",
    "for row in first_10_rows:\n",
    "    print(row)\n",
    "\n",
    "\n",
    "query = \"\"\"\n",
    "SELECT COUNT(*) AS cnt\n",
    "FROM pageviews\n",
    "WHERE uid IN (\n",
    "    SELECT uid\n",
    "    FROM checker\n",
    "    WHERE status = 'ready'\n",
    "    AND numTrials = 1\n",
    "    AND labname IN ('laba04', 'laba04s', 'laba05', 'laba06', 'laba06s', 'project1')\n",
    ")\n",
    "\"\"\"\n",
    "\n",
    "checkers = pd.read_sql_query(query, conn)\n",
    "\n",
    "conn.close()\n",
    "\n",
    "print(\"\\nРезультат подсчета:\")\n",
    "print(checkers)"
   ]
  }
 ],
 "metadata": {
  "kernelspec": {
   "display_name": "Python 3 (ipykernel)",
   "language": "python",
   "name": "python3"
  },
  "language_info": {
   "codemirror_mode": {
    "name": "ipython",
    "version": 3
   },
   "file_extension": ".py",
   "mimetype": "text/x-python",
   "name": "python",
   "nbconvert_exporter": "python",
   "pygments_lexer": "ipython3",
   "version": "3.12.3"
  }
 },
 "nbformat": 4,
 "nbformat_minor": 5
}
