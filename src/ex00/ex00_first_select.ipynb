{
 "cells": [
  {
   "cell_type": "code",
   "execution_count": 2,
   "id": "6cf20b8c-dd6f-404c-b92c-4175ef9b2473",
   "metadata": {},
   "outputs": [
    {
     "name": "stdout",
     "output_type": "stream",
     "text": [
      "Схема таблицы pageviews:\n",
      "   cid      name       type  notnull dflt_value  pk\n",
      "0    0     index    INTEGER        0       None   0\n",
      "1    1       uid       TEXT        0       None   0\n",
      "2    2  datetime  TIMESTAMP        0       None   0\n",
      "\n",
      "Первые 10 строк таблицы pageviews:\n",
      "   index      uid                    datetime\n",
      "0      0  admin_1  2020-04-17 12:01:08.463179\n",
      "1      1  admin_1  2020-04-17 12:01:23.743946\n",
      "2      2  admin_3  2020-04-17 12:17:39.287778\n",
      "3      3  admin_3  2020-04-17 12:17:40.001768\n",
      "4      4  admin_1  2020-04-17 12:27:30.646665\n",
      "5      5  admin_1  2020-04-17 12:35:44.884757\n",
      "6      6  admin_1  2020-04-17 12:35:52.735016\n",
      "7      7  admin_3  2020-04-17 12:36:21.401412\n",
      "8      8  admin_3  2020-04-17 12:36:22.023355\n",
      "9      9  admin_1  2020-04-17 13:55:19.129243\n",
      "\n",
      "Итоговый DataFrame pageviews:\n",
      "                               uid\n",
      "DatetimeIndex                     \n",
      "2020-04-26 21:53:59.624136  user_1\n",
      "2020-04-26 22:06:19.478143  user_1\n",
      "2020-04-26 22:12:09.614497  user_1\n",
      "2020-04-30 19:29:01.831635  user_1\n",
      "2020-05-05 20:26:32.894852  user_1\n",
      "\n",
      "Информация о DataFrame:\n",
      "<class 'pandas.core.frame.DataFrame'>\n",
      "DatetimeIndex: 987 entries, 2020-04-26 21:53:59.624136 to 2020-05-21 16:36:40.915488\n",
      "Data columns (total 1 columns):\n",
      " #   Column  Non-Null Count  Dtype \n",
      "---  ------  --------------  ----- \n",
      " 0   uid     987 non-null    object\n",
      "dtypes: object(1)\n",
      "memory usage: 15.4+ KB\n",
      "None\n"
     ]
    }
   ],
   "source": [
    "import pandas as pd\n",
    "import sqlite3\n",
    "from datetime import datetime\n",
    "\n",
    "conn = sqlite3.connect('../data/checking-logs.sqlite')\n",
    "\n",
    "schema_query = \"PRAGMA table_info(pageviews);\"\n",
    "schema = pd.io.sql.read_sql(schema_query, conn)\n",
    "print(\"Схема таблицы pageviews:\")\n",
    "print(schema)\n",
    "\n",
    "first_rows_query = \"SELECT * FROM pageviews LIMIT 10;\"\n",
    "first_rows = pd.io.sql.read_sql(first_rows_query, conn)\n",
    "print(\"\\nПервые 10 строк таблицы pageviews:\")\n",
    "print(first_rows)\n",
    "\n",
    "main_query = \"\"\"\n",
    "SELECT uid, datetime \n",
    "FROM pageviews \n",
    "WHERE uid LIKE 'user_%'  -- Фильтруем только пользователей (не админов)\n",
    "ORDER BY uid ASC  -- Сортируем по uid по возрастанию\n",
    "\"\"\"\n",
    "\n",
    "pageviews = pd.io.sql.read_sql(main_query, conn, \n",
    "                              index_col='datetime', \n",
    "                              parse_dates=['datetime'])  \n",
    "\n",
    "pageviews.index.name = 'DatetimeIndex'\n",
    "\n",
    "conn.close()\n",
    "\n",
    "print(\"\\nИтоговый DataFrame pageviews:\")\n",
    "print(pageviews.head())\n",
    "print(\"\\nИнформация о DataFrame:\")\n",
    "print(pageviews.info())"
   ]
  },
  {
   "cell_type": "code",
   "execution_count": null,
   "id": "ee3cd2bf-0942-4fae-9b8c-ff5bb3a30d8e",
   "metadata": {},
   "outputs": [],
   "source": []
  }
 ],
 "metadata": {
  "kernelspec": {
   "display_name": "Python 3 (ipykernel)",
   "language": "python",
   "name": "python3"
  },
  "language_info": {
   "codemirror_mode": {
    "name": "ipython",
    "version": 3
   },
   "file_extension": ".py",
   "mimetype": "text/x-python",
   "name": "python",
   "nbconvert_exporter": "python",
   "pygments_lexer": "ipython3",
   "version": "3.12.3"
  }
 },
 "nbformat": 4,
 "nbformat_minor": 5
}
