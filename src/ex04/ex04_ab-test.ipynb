{
 "cells": [
  {
   "cell_type": "code",
   "execution_count": 1,
   "id": "1a463f3a-f10e-4fe7-a00b-ea4d21e9c466",
   "metadata": {},
   "outputs": [],
   "source": [
    "import pandas as pd\n",
    "import sqlite3"
   ]
  },
  {
   "cell_type": "code",
   "execution_count": 2,
   "id": "b96a40c8-2fee-4182-abc2-54fd1a848c1d",
   "metadata": {},
   "outputs": [],
   "source": [
    "con = sqlite3.connect(\"../data/checking-logs.sqlite\")\n",
    "cur = con.cursor()"
   ]
  },
  {
   "cell_type": "code",
   "execution_count": 7,
   "id": "2515a93c-7e57-46df-91b1-d8c43ff6b876",
   "metadata": {},
   "outputs": [
    {
     "data": {
      "text/html": [
       "<div>\n",
       "<style scoped>\n",
       "    .dataframe tbody tr th:only-of-type {\n",
       "        vertical-align: middle;\n",
       "    }\n",
       "\n",
       "    .dataframe tbody tr th {\n",
       "        vertical-align: top;\n",
       "    }\n",
       "\n",
       "    .dataframe thead th {\n",
       "        text-align: right;\n",
       "    }\n",
       "</style>\n",
       "<table border=\"1\" class=\"dataframe\">\n",
       "  <thead>\n",
       "    <tr style=\"text-align: right;\">\n",
       "      <th></th>\n",
       "      <th>time</th>\n",
       "      <th>avg_diff</th>\n",
       "    </tr>\n",
       "  </thead>\n",
       "  <tbody>\n",
       "    <tr>\n",
       "      <th>0</th>\n",
       "      <td>before</td>\n",
       "      <td>-66.679583</td>\n",
       "    </tr>\n",
       "    <tr>\n",
       "      <th>1</th>\n",
       "      <td>after</td>\n",
       "      <td>-100.178181</td>\n",
       "    </tr>\n",
       "  </tbody>\n",
       "</table>\n",
       "</div>"
      ],
      "text/plain": [
       "     time    avg_diff\n",
       "0  before  -66.679583\n",
       "1   after -100.178181"
      ]
     },
     "execution_count": 7,
     "metadata": {},
     "output_type": "execute_result"
    }
   ],
   "source": [
    "import pandas as pd\n",
    "import sqlite3\n",
    "\n",
    "# Create connection\n",
    "conn = sqlite3.connect('../data/checking-logs.sqlite')\n",
    "\n",
    "avg_first_view = pd.read_sql(\"\"\"\n",
    "    SELECT AVG(CAST(strftime('%s', first_view_ts) AS INT)) as avg_timestamp \n",
    "    FROM test\n",
    "\"\"\", conn).iloc[0,0]\n",
    "\n",
    "test_results = pd.read_sql(\"\"\"\n",
    "    WITH time_periods AS (\n",
    "        SELECT \n",
    "            uid,\n",
    "            'before' AS time,\n",
    "            AVG((CAST(strftime('%s', first_commit_ts) AS INT) - deadlines)/3600.0) AS avg_diff\n",
    "        FROM test t\n",
    "        JOIN deadlines d ON t.labname = d.labs\n",
    "        WHERE t.labname != 'project1'\n",
    "        AND CAST(strftime('%s', first_commit_ts) AS INT) < CAST(strftime('%s', first_view_ts) AS INT)\n",
    "        GROUP BY uid\n",
    "        \n",
    "        UNION ALL\n",
    "        \n",
    "        SELECT \n",
    "            uid,\n",
    "            'after' AS time,\n",
    "            AVG((CAST(strftime('%s', first_commit_ts) AS INT) - deadlines)/3600.0) AS avg_diff\n",
    "        FROM test t\n",
    "        JOIN deadlines d ON t.labname = d.labs\n",
    "        WHERE t.labname != 'project1'\n",
    "        AND CAST(strftime('%s', first_commit_ts) AS INT) >= CAST(strftime('%s', first_view_ts) AS INT)\n",
    "        GROUP BY uid\n",
    "    ),\n",
    "    users_with_both AS (\n",
    "        SELECT uid\n",
    "        FROM time_periods\n",
    "        GROUP BY uid\n",
    "        HAVING COUNT(DISTINCT time) = 2\n",
    "    )\n",
    "    SELECT \n",
    "        time,\n",
    "        AVG(avg_diff) AS avg_diff\n",
    "    FROM time_periods\n",
    "    WHERE uid IN (SELECT uid FROM users_with_both)\n",
    "    GROUP BY time\n",
    "    ORDER BY time DESC\n",
    "\"\"\", conn)\n",
    "test_results"
   ]
  },
  {
   "cell_type": "code",
   "execution_count": 8,
   "id": "ba71ef7e-cd26-4d8f-a1a3-d1b415ad084f",
   "metadata": {},
   "outputs": [
    {
     "data": {
      "text/html": [
       "<div>\n",
       "<style scoped>\n",
       "    .dataframe tbody tr th:only-of-type {\n",
       "        vertical-align: middle;\n",
       "    }\n",
       "\n",
       "    .dataframe tbody tr th {\n",
       "        vertical-align: top;\n",
       "    }\n",
       "\n",
       "    .dataframe thead th {\n",
       "        text-align: right;\n",
       "    }\n",
       "</style>\n",
       "<table border=\"1\" class=\"dataframe\">\n",
       "  <thead>\n",
       "    <tr style=\"text-align: right;\">\n",
       "      <th></th>\n",
       "      <th>time</th>\n",
       "      <th>avg_diff</th>\n",
       "    </tr>\n",
       "  </thead>\n",
       "  <tbody>\n",
       "    <tr>\n",
       "      <th>0</th>\n",
       "      <td>before</td>\n",
       "      <td>-98.467852</td>\n",
       "    </tr>\n",
       "    <tr>\n",
       "      <th>1</th>\n",
       "      <td>after</td>\n",
       "      <td>-99.803549</td>\n",
       "    </tr>\n",
       "  </tbody>\n",
       "</table>\n",
       "</div>"
      ],
      "text/plain": [
       "     time   avg_diff\n",
       "0  before -98.467852\n",
       "1   after -99.803549"
      ]
     },
     "execution_count": 8,
     "metadata": {},
     "output_type": "execute_result"
    }
   ],
   "source": [
    "control_results = pd.read_sql(f\"\"\"\n",
    "    WITH time_periods AS (\n",
    "        SELECT \n",
    "            uid,\n",
    "            'before' AS time,\n",
    "            AVG((CAST(strftime('%s', first_commit_ts) AS INT) - deadlines)/3600.0) AS avg_diff\n",
    "        FROM control c\n",
    "        JOIN deadlines d ON c.labname = d.labs\n",
    "        WHERE c.labname != 'project1'\n",
    "        AND CAST(strftime('%s', first_commit_ts) AS INT) < {avg_first_view}\n",
    "        GROUP BY uid\n",
    "        \n",
    "        UNION ALL\n",
    "        \n",
    "        SELECT \n",
    "            uid,\n",
    "            'after' AS time,\n",
    "            AVG((CAST(strftime('%s', first_commit_ts) AS INT) - deadlines)/3600.0) AS avg_diff\n",
    "        FROM control c\n",
    "        JOIN deadlines d ON c.labname = d.labs\n",
    "        WHERE c.labname != 'project1'\n",
    "        AND CAST(strftime('%s', first_commit_ts) AS INT) >= {avg_first_view}\n",
    "        GROUP BY uid\n",
    "    ),\n",
    "    users_with_both AS (\n",
    "        SELECT uid\n",
    "        FROM time_periods\n",
    "        GROUP BY uid\n",
    "        HAVING COUNT(DISTINCT time) = 2\n",
    "    )\n",
    "    SELECT \n",
    "        time,\n",
    "        AVG(avg_diff) AS avg_diff\n",
    "    FROM time_periods\n",
    "    WHERE uid IN (SELECT uid FROM users_with_both)\n",
    "    GROUP BY time\n",
    "    ORDER BY time DESC\n",
    "\"\"\", conn)\n",
    "control_results"
   ]
  },
  {
   "cell_type": "code",
   "execution_count": 5,
   "id": "67ff2ec8-e554-457b-a80e-4287f44d8dde",
   "metadata": {},
   "outputs": [],
   "source": [
    "con.close()"
   ]
  },
  {
   "cell_type": "markdown",
   "id": "1a9471b2-de8f-46df-8360-866c32269a6f",
   "metadata": {},
   "source": [
    "# Результаты тестовой группы"
   ]
  },
  {
   "cell_type": "markdown",
   "id": "89cc4d21-aca1-4e76-82e6-12c3d0db5475",
   "metadata": {},
   "source": [
    "До просмотра Newsfeed: студенты сдавали работы в среднем на 66.7 часов раньше дедлайна\n",
    "\n",
    "После просмотра Newsfeed: студенты сдавали работы в среднем на 100.2 часов раньше дедлайна\n",
    "\n",
    "Разница: -33.5 часов (увеличение заблаговременности сдачи на 50%)"
   ]
  },
  {
   "cell_type": "markdown",
   "id": "d17e0946-533f-47de-a581-9acead9294ff",
   "metadata": {},
   "source": [
    "# Результаты контрольной группы"
   ]
  },
  {
   "cell_type": "markdown",
   "id": "4880f6d2-6c07-4a52-8cc5-2af429245c81",
   "metadata": {},
   "source": [
    "До условного времени: -98.5 часов\n",
    "\n",
    "После условного времени: -99.8 часов\n",
    "\n",
    "Разница: -1.3 часа (незначительное изменение)"
   ]
  },
  {
   "cell_type": "markdown",
   "id": "43f55d45-688d-4b11-af58-12dd53cc0b9d",
   "metadata": {},
   "source": [
    "# Эффект"
   ]
  },
  {
   "cell_type": "markdown",
   "id": "5509b7ba-d8c9-47e9-aad3-3c9203250a6b",
   "metadata": {},
   "source": [
    "В тестовой группе после просмотра Newsfeed студенты начали сдавать работы значительно раньше (разница 33.5 часов)\n",
    "\n",
    "В контрольной группе нет существенных изменений в поведении (разница всего 1.3 часа)"
   ]
  }
 ],
 "metadata": {
  "kernelspec": {
   "display_name": "Python 3 (ipykernel)",
   "language": "python",
   "name": "python3"
  },
  "language_info": {
   "codemirror_mode": {
    "name": "ipython",
    "version": 3
   },
   "file_extension": ".py",
   "mimetype": "text/x-python",
   "name": "python",
   "nbconvert_exporter": "python",
   "pygments_lexer": "ipython3",
   "version": "3.12.3"
  }
 },
 "nbformat": 4,
 "nbformat_minor": 5
}
