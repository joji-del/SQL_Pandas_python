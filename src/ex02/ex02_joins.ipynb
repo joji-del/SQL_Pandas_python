{
 "cells": [
  {
   "cell_type": "code",
   "execution_count": 9,
   "id": "dc76ebdf-5e73-4118-9495-52e848e14f75",
   "metadata": {},
   "outputs": [],
   "source": [
    "import pandas as pd\n",
    "import sqlite3\n",
    "\n",
    "conn = sqlite3.connect('../data/checking-logs.sqlite')\n",
    "\n",
    "query = \"\"\"\n",
    "SELECT \n",
    "    checker.uid,\n",
    "    checker.labname,\n",
    "    checker.timestamp AS first_commit_ts,\n",
    "    MIN(pageviews.datetime) AS first_view_ts\n",
    "FROM checker\n",
    "LEFT JOIN pageviews ON checker.uid = pageviews.uid\n",
    "WHERE \n",
    "    checker.status = 'ready'\n",
    "    AND checker.numTrials = 1\n",
    "    AND checker.labname IN ('laba04', 'laba04s', 'laba05', 'laba06', 'laba06s', 'project1')\n",
    "    AND checker.uid LIKE 'user_%'\n",
    "GROUP BY checker.uid, checker.labname\n",
    "\"\"\"\n",
    "\n",
    "datamart = pd.read_sql_query(query, conn, parse_dates=['first_commit_ts', 'first_view_ts'])\n",
    "\n",
    "test = datamart[datamart['first_view_ts'].notna()].copy()\n",
    "control = datamart[datamart['first_view_ts'].isna()].copy()\n",
    "\n",
    "avg_view_ts = test['first_view_ts'].mean()\n",
    "control.loc[:, 'first_view_ts'] = control['first_view_ts'].fillna(avg_view_ts)\n",
    "\n",
    "test.to_sql('test', conn, if_exists='replace', index=False)\n",
    "control.to_sql('control', conn, if_exists='replace', index=False)\n",
    "\n",
    "conn.close()"
   ]
  },
  {
   "cell_type": "code",
   "execution_count": 4,
   "id": "d0a7229a-e767-4865-befe-3c66a7fc1f4c",
   "metadata": {},
   "outputs": [
    {
     "name": "stdout",
     "output_type": "stream",
     "text": [
      "<class 'pandas.core.frame.DataFrame'>\n",
      "RangeIndex: 140 entries, 0 to 139\n",
      "Data columns (total 4 columns):\n",
      " #   Column           Non-Null Count  Dtype         \n",
      "---  ------           --------------  -----         \n",
      " 0   uid              140 non-null    object        \n",
      " 1   labname          140 non-null    object        \n",
      " 2   first_commit_ts  140 non-null    datetime64[ns]\n",
      " 3   first_view_ts    59 non-null     datetime64[ns]\n",
      "dtypes: datetime64[ns](2), object(2)\n",
      "memory usage: 4.5+ KB\n"
     ]
    }
   ],
   "source": [
    "datamart.info()"
   ]
  },
  {
   "cell_type": "code",
   "execution_count": 5,
   "id": "3ce78b8b-00ea-4022-a8b4-234628fb920f",
   "metadata": {},
   "outputs": [
    {
     "name": "stdout",
     "output_type": "stream",
     "text": [
      "<class 'pandas.core.frame.DataFrame'>\n",
      "Index: 59 entries, 0 to 114\n",
      "Data columns (total 4 columns):\n",
      " #   Column           Non-Null Count  Dtype         \n",
      "---  ------           --------------  -----         \n",
      " 0   uid              59 non-null     object        \n",
      " 1   labname          59 non-null     object        \n",
      " 2   first_commit_ts  59 non-null     datetime64[ns]\n",
      " 3   first_view_ts    59 non-null     datetime64[ns]\n",
      "dtypes: datetime64[ns](2), object(2)\n",
      "memory usage: 2.3+ KB\n"
     ]
    }
   ],
   "source": [
    "test.info()"
   ]
  },
  {
   "cell_type": "code",
   "execution_count": 6,
   "id": "deecbce5-0d92-4635-ac62-d8a5e2f1ea98",
   "metadata": {},
   "outputs": [
    {
     "name": "stdout",
     "output_type": "stream",
     "text": [
      "<class 'pandas.core.frame.DataFrame'>\n",
      "Index: 81 entries, 12 to 139\n",
      "Data columns (total 4 columns):\n",
      " #   Column           Non-Null Count  Dtype         \n",
      "---  ------           --------------  -----         \n",
      " 0   uid              81 non-null     object        \n",
      " 1   labname          81 non-null     object        \n",
      " 2   first_commit_ts  81 non-null     datetime64[ns]\n",
      " 3   first_view_ts    81 non-null     datetime64[ns]\n",
      "dtypes: datetime64[ns](2), object(2)\n",
      "memory usage: 3.2+ KB\n"
     ]
    }
   ],
   "source": [
    "control.info()"
   ]
  },
  {
   "cell_type": "code",
   "execution_count": 7,
   "id": "9314a991-4544-48f9-abcb-813ea39a8888",
   "metadata": {},
   "outputs": [],
   "source": [
    "conn = sqlite3.connect('../data/checking-logs.sqlite')\n",
    "test = pd.io.sql.read_sql('SELECT * FROM test', conn)\n",
    "conn.close()"
   ]
  },
  {
   "cell_type": "code",
   "execution_count": 8,
   "id": "e4fd2157-4e4f-4730-b83b-637c4300901b",
   "metadata": {},
   "outputs": [],
   "source": [
    "conn = sqlite3.connect('../data/checking-logs.sqlite')\n",
    "control = pd.io.sql.read_sql('SELECT * FROM control', conn)\n",
    "conn.close()"
   ]
  },
  {
   "cell_type": "code",
   "execution_count": null,
   "id": "c074a476-3f8c-47e7-896c-fb6073ed0ecc",
   "metadata": {},
   "outputs": [],
   "source": []
  }
 ],
 "metadata": {
  "kernelspec": {
   "display_name": "Python 3 (ipykernel)",
   "language": "python",
   "name": "python3"
  },
  "language_info": {
   "codemirror_mode": {
    "name": "ipython",
    "version": 3
   },
   "file_extension": ".py",
   "mimetype": "text/x-python",
   "name": "python",
   "nbconvert_exporter": "python",
   "pygments_lexer": "ipython3",
   "version": "3.12.3"
  }
 },
 "nbformat": 4,
 "nbformat_minor": 5
}
